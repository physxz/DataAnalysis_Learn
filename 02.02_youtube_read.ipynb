{
 "cells": [
  {
   "cell_type": "code",
   "execution_count": 1,
   "metadata": {},
   "outputs": [],
   "source": [
    "import numpy as np\n",
    "import matplotlib.pyplot as plt"
   ]
  },
  {
   "cell_type": "code",
   "execution_count": 2,
   "metadata": {},
   "outputs": [],
   "source": [
    "us_file_path = './youtube_video_data/US_video_data_numbers.csv'\n",
    "uk_file_path = './youtube_video_data/GB_video_data_numbers.csv'"
   ]
  },
  {
   "cell_type": "code",
   "execution_count": 3,
   "metadata": {},
   "outputs": [],
   "source": [
    "# t_us = np.loadtxt(us_file_path, delimiter=',', dtype='int', unpack=True) # unpack 转置\n",
    "t_us = np.loadtxt(us_file_path, delimiter=',', dtype='int')"
   ]
  },
  {
   "cell_type": "code",
   "execution_count": 4,
   "metadata": {},
   "outputs": [],
   "source": [
    "t_us_comments = t_us[:,-1] # 取评论列"
   ]
  },
  {
   "cell_type": "code",
   "execution_count": 5,
   "metadata": {},
   "outputs": [],
   "source": [
    "t_us_comments = t_us_comments[t_us_comments<=5000] # 选择比5000小的数据"
   ]
  },
  {
   "cell_type": "code",
   "execution_count": 6,
   "metadata": {},
   "outputs": [
    {
     "data": {
      "text/plain": [
       "(array([390., 194., 127.,  93.,  84.,  63.,  56.,  50.,  57.,  27.,  21.,\n",
       "         32.,  28.,  26.,  30.,  29.,  19.,  27.,  20.]),\n",
       " array([   0.        ,  262.89473684,  525.78947368,  788.68421053,\n",
       "        1051.57894737, 1314.47368421, 1577.36842105, 1840.26315789,\n",
       "        2103.15789474, 2366.05263158, 2628.94736842, 2891.84210526,\n",
       "        3154.73684211, 3417.63157895, 3680.52631579, 3943.42105263,\n",
       "        4206.31578947, 4469.21052632, 4732.10526316, 4995.        ]),\n",
       " <BarContainer object of 19 artists>)"
      ]
     },
     "execution_count": 6,
     "metadata": {},
     "output_type": "execute_result"
    },
    {
     "data": {
      "image/png": "[encoded data removed]",
      "text/plain": [
       "<Figure size 1000x300 with 1 Axes>"
      ]
     },
     "metadata": {
      "needs_background": "light"
     },
     "output_type": "display_data"
    }
   ],
   "source": [
    "d = 250\n",
    "num_bins = ( t_us_comments.max() - t_us_comments.min() ) // d\n",
    "fig, ax = plt.subplots(figsize=(10,3), dpi=100)\n",
    "ax.hist(t_us_comments, num_bins)"
   ]
  },
  {
   "cell_type": "code",
   "execution_count": 7,
   "metadata": {},
   "outputs": [],
   "source": [
    "t_uk = np.loadtxt(uk_file_path, delimiter=',', dtype='int')\n",
    "t_uk_main = t_uk[t_uk[:,1]<=750000] # 选择喜欢数小于75万的数据"
   ]
  },
  {
   "cell_type": "code",
   "execution_count": 8,
   "metadata": {},
   "outputs": [],
   "source": [
    "t_uk_comment = t_uk_main[:,-1] # 评论数\n",
    "t_uk_like = t_uk_main[:,1] # 喜欢数"
   ]
  },
  {
   "cell_type": "code",
   "execution_count": 9,
   "metadata": {},
   "outputs": [
    {
     "data": {
      "text/plain": [
       "<matplotlib.collections.PathCollection at 0x7fdcc18879d0>"
      ]
     },
     "execution_count": 9,
     "metadata": {},
     "output_type": "execute_result"
    },
    {
     "data": {
      "image/png": "[encoded data removed]",
      "text/plain": [
       "<Figure size 1000x300 with 1 Axes>"
      ]
     },
     "metadata": {
      "needs_background": "light"
     },
     "output_type": "display_data"
    }
   ],
   "source": [
    "fig, ax = plt.subplots(figsize=(10,3), dpi=100)\n",
    "ax.scatter(t_uk_like, t_uk_comment)"
   ]
  },
  {
   "cell_type": "markdown",
   "metadata": {},
   "source": [
    "## 数据拼接"
   ]
  },
  {
   "cell_type": "code",
   "execution_count": 10,
   "metadata": {},
   "outputs": [],
   "source": [
    "zeros_data = np.zeros((t_us.shape[0], 1))\n",
    "ones_data = np.ones((t_uk.shape[0], 1))"
   ]
  },
  {
   "cell_type": "code",
   "execution_count": 13,
   "metadata": {},
   "outputs": [],
   "source": [
    "t_us =  np.hstack((t_us, zeros_data)).astype('int')\n",
    "t_uk =  np.hstack((t_uk, ones_data)).astype('int')"
   ]
  },
  {
   "cell_type": "code",
   "execution_count": 14,
   "metadata": {},
   "outputs": [
    {
     "data": {
      "text/plain": [
       "array([[4394029,  320053,    5931,   46245,       0,       0],\n",
       "       [7860119,  185853,   26679,       0,       0,       0],\n",
       "       [5845909,  576597,   39774,  170708,       0,       0],\n",
       "       ...,\n",
       "       [ 109222,    4840,      35,     212,       1,       1],\n",
       "       [ 626223,   22962,     532,    1559,       1,       1],\n",
       "       [  99228,    1699,      23,     135,       1,       1]])"
      ]
     },
     "execution_count": 14,
     "metadata": {},
     "output_type": "execute_result"
    }
   ],
   "source": [
    "final_data = np.vstack((t_us, t_uk))\n",
    "final_data"
   ]
  },
  {
   "cell_type": "code",
   "execution_count": null,
   "metadata": {},
   "outputs": [],
   "source": []
  }
 ],
 "metadata": {
  "interpreter": {
   "hash": "3d597f4c481aa0f25dceb95d2a0067e73c0966dcbd003d741d821a7208527ecf"
  },
  "kernelspec": {
   "display_name": "Python 3.9.12 ('base')",
   "language": "python",
   "name": "python3"
  },
  "language_info": {
   "codemirror_mode": {
    "name": "ipython",
    "version": 3
   },
   "file_extension": ".py",
   "mimetype": "text/x-python",
   "name": "python",
   "nbconvert_exporter": "python",
   "pygments_lexer": "ipython3",
   "version": "3.9.12"
  },
  "orig_nbformat": 4
 },
 "nbformat": 4,
 "nbformat_minor": 2
}
