{
 "cells": [
  {
   "cell_type": "code",
   "execution_count": 1,
   "metadata": {},
   "outputs": [],
   "source": [
    "import pandas as pd\n",
    "import numpy as np\n",
    "import matplotlib.pyplot as plt"
   ]
  },
  {
   "cell_type": "markdown",
   "metadata": {},
   "source": [
    "# 001使用list构造Series"
   ]
  },
  {
   "cell_type": "code",
   "execution_count": 2,
   "metadata": {},
   "outputs": [
    {
     "data": {
      "text/plain": [
       "0     语文\n",
       "1     数学\n",
       "2     英语\n",
       "3    计算机\n",
       "dtype: object"
      ]
     },
     "execution_count": 2,
     "metadata": {},
     "output_type": "execute_result"
    }
   ],
   "source": [
    "courses = ['语文', '数学', '英语', '计算机']\n",
    "s1 = pd.Series(data=courses)\n",
    "s1"
   ]
  },
  {
   "cell_type": "markdown",
   "metadata": {},
   "source": [
    "# 002使用dict构造Series"
   ]
  },
  {
   "cell_type": "code",
   "execution_count": 3,
   "metadata": {},
   "outputs": [
    {
     "data": {
      "text/plain": [
       "语文      80\n",
       "数学      90\n",
       "英语      85\n",
       "计算机    100\n",
       "dtype: int64"
      ]
     },
     "execution_count": 3,
     "metadata": {},
     "output_type": "execute_result"
    }
   ],
   "source": [
    "grades = {'语文':80, '数学':90, '英语':85, '计算机':100}\n",
    "s2 = pd.Series(grades)\n",
    "s2"
   ]
  },
  {
   "cell_type": "markdown",
   "metadata": {},
   "source": [
    "# 003Series转换成list"
   ]
  },
  {
   "cell_type": "code",
   "execution_count": 4,
   "metadata": {},
   "outputs": [
    {
     "data": {
      "text/plain": [
       "[80, 90, 85, 100]"
      ]
     },
     "execution_count": 4,
     "metadata": {},
     "output_type": "execute_result"
    }
   ],
   "source": [
    "grd = s2.to_list()\n",
    "grd"
   ]
  },
  {
   "cell_type": "markdown",
   "metadata": {},
   "source": [
    "# 004将Series转换成DataFrame"
   ]
  },
  {
   "cell_type": "code",
   "execution_count": 5,
   "metadata": {},
   "outputs": [
    {
     "data": {
      "text/html": [
       "<div>\n",
       "<style scoped>\n",
       "    .dataframe tbody tr th:only-of-type {\n",
       "        vertical-align: middle;\n",
       "    }\n",
       "\n",
       "    .dataframe tbody tr th {\n",
       "        vertical-align: top;\n",
       "    }\n",
       "\n",
       "    .dataframe thead th {\n",
       "        text-align: right;\n",
       "    }\n",
       "</style>\n",
       "<table border=\"1\" class=\"dataframe\">\n",
       "  <thead>\n",
       "    <tr style=\"text-align: right;\">\n",
       "      <th></th>\n",
       "      <th>grade</th>\n",
       "    </tr>\n",
       "  </thead>\n",
       "  <tbody>\n",
       "    <tr>\n",
       "      <th>语文</th>\n",
       "      <td>80</td>\n",
       "    </tr>\n",
       "    <tr>\n",
       "      <th>数学</th>\n",
       "      <td>90</td>\n",
       "    </tr>\n",
       "    <tr>\n",
       "      <th>英语</th>\n",
       "      <td>85</td>\n",
       "    </tr>\n",
       "    <tr>\n",
       "      <th>计算机</th>\n",
       "      <td>100</td>\n",
       "    </tr>\n",
       "  </tbody>\n",
       "</table>\n",
       "</div>"
      ],
      "text/plain": [
       "     grade\n",
       "语文      80\n",
       "数学      90\n",
       "英语      85\n",
       "计算机    100"
      ]
     },
     "execution_count": 5,
     "metadata": {},
     "output_type": "execute_result"
    }
   ],
   "source": [
    "df1 = pd.DataFrame(s2, columns=['grade'])\n",
    "df1"
   ]
  },
  {
   "cell_type": "markdown",
   "metadata": {},
   "source": [
    "# 005借助numpy创建Series"
   ]
  },
  {
   "cell_type": "code",
   "execution_count": 6,
   "metadata": {},
   "outputs": [
    {
     "data": {
      "text/plain": [
       "101    10.0\n",
       "102    20.0\n",
       "103    30.0\n",
       "104    40.0\n",
       "105    50.0\n",
       "106    60.0\n",
       "107    70.0\n",
       "108    80.0\n",
       "109    90.0\n",
       "dtype: float64"
      ]
     },
     "execution_count": 6,
     "metadata": {},
     "output_type": "execute_result"
    }
   ],
   "source": [
    "s3 = pd.Series(np.arange(10,100,10), index=np.arange(101,110), dtype='float64')\n",
    "s3"
   ]
  },
  {
   "cell_type": "markdown",
   "metadata": {},
   "source": [
    "# 006转换Series的数据类型"
   ]
  },
  {
   "cell_type": "code",
   "execution_count": 7,
   "metadata": {},
   "outputs": [
    {
     "data": {
      "text/plain": [
       "a    1\n",
       "b    2\n",
       "c    3\n",
       "d    4\n",
       "dtype: int64"
      ]
     },
     "execution_count": 7,
     "metadata": {},
     "output_type": "execute_result"
    }
   ],
   "source": [
    "s4 = pd.Series(\n",
    "    data=['001','002','003','004'],\n",
    "    index=list('abcd')\n",
    ")\n",
    "# s4.astype('int64')\n",
    "s4.map(int) # 这里的int是函数"
   ]
  },
  {
   "cell_type": "markdown",
   "metadata": {},
   "source": [
    "# 007给Series添加新的元素"
   ]
  },
  {
   "cell_type": "markdown",
   "metadata": {},
   "source": [
    "## 方法1：通过Series添加"
   ]
  },
  {
   "cell_type": "code",
   "execution_count": 10,
   "metadata": {},
   "outputs": [
    {
     "name": "stderr",
     "output_type": "stream",
     "text": [
      "/tmp/ipykernel_27424/1296096884.py:3: FutureWarning: The series.append method is deprecated and will be removed from pandas in a future version. Use pandas.concat instead.\n",
      "  s2_new1 = s2.append(s5)\n"
     ]
    },
    {
     "data": {
      "text/plain": [
       "语文      80\n",
       "数学      90\n",
       "英语      85\n",
       "计算机    100\n",
       "物理      88\n",
       "化学      96\n",
       "dtype: int64"
      ]
     },
     "execution_count": 10,
     "metadata": {},
     "output_type": "execute_result"
    }
   ],
   "source": [
    "new_grades = {'物理':88, '化学':96}\n",
    "s5 = pd.Series(new_grades)\n",
    "s2_new1 = s2.append(s5) # s2.append(s5)只返回修改后的值，不修改s2\n",
    "s2_new1"
   ]
  },
  {
   "cell_type": "markdown",
   "metadata": {},
   "source": [
    "## 方法2：直接添加"
   ]
  },
  {
   "cell_type": "code",
   "execution_count": 11,
   "metadata": {},
   "outputs": [
    {
     "data": {
      "text/plain": [
       "语文      80\n",
       "数学      90\n",
       "英语      85\n",
       "计算机    100\n",
       "物理      88\n",
       "化学      96\n",
       "dtype: int64"
      ]
     },
     "execution_count": 11,
     "metadata": {},
     "output_type": "execute_result"
    }
   ],
   "source": [
    "s2_new2 = s2.copy()\n",
    "s2_new2['物理'] = 88\n",
    "s2_new2['化学'] = 96\n",
    "s2_new2"
   ]
  },
  {
   "cell_type": "markdown",
   "metadata": {},
   "source": [
    "# 008用reset_index将Series转换成DataFrame"
   ]
  },
  {
   "cell_type": "code",
   "execution_count": 16,
   "metadata": {},
   "outputs": [
    {
     "data": {
      "text/html": [
       "<div>\n",
       "<style scoped>\n",
       "    .dataframe tbody tr th:only-of-type {\n",
       "        vertical-align: middle;\n",
       "    }\n",
       "\n",
       "    .dataframe tbody tr th {\n",
       "        vertical-align: top;\n",
       "    }\n",
       "\n",
       "    .dataframe thead th {\n",
       "        text-align: right;\n",
       "    }\n",
       "</style>\n",
       "<table border=\"1\" class=\"dataframe\">\n",
       "  <thead>\n",
       "    <tr style=\"text-align: right;\">\n",
       "      <th></th>\n",
       "      <th>index</th>\n",
       "      <th>0</th>\n",
       "    </tr>\n",
       "  </thead>\n",
       "  <tbody>\n",
       "    <tr>\n",
       "      <th>0</th>\n",
       "      <td>语文</td>\n",
       "      <td>80</td>\n",
       "    </tr>\n",
       "    <tr>\n",
       "      <th>1</th>\n",
       "      <td>数学</td>\n",
       "      <td>90</td>\n",
       "    </tr>\n",
       "    <tr>\n",
       "      <th>2</th>\n",
       "      <td>英语</td>\n",
       "      <td>85</td>\n",
       "    </tr>\n",
       "    <tr>\n",
       "      <th>3</th>\n",
       "      <td>计算机</td>\n",
       "      <td>100</td>\n",
       "    </tr>\n",
       "  </tbody>\n",
       "</table>\n",
       "</div>"
      ],
      "text/plain": [
       "  index    0\n",
       "0    语文   80\n",
       "1    数学   90\n",
       "2    英语   85\n",
       "3   计算机  100"
      ]
     },
     "execution_count": 16,
     "metadata": {},
     "output_type": "execute_result"
    }
   ],
   "source": [
    "df2 = s2.reset_index() # drop参数为False(默认)返回DataFrame，drop参数为True, 返回Series；参数inplace=True无返回值\n",
    "df2"
   ]
  },
  {
   "cell_type": "markdown",
   "metadata": {},
   "source": [
    "更改列名"
   ]
  },
  {
   "cell_type": "code",
   "execution_count": 18,
   "metadata": {},
   "outputs": [
    {
     "data": {
      "text/html": [
       "<div>\n",
       "<style scoped>\n",
       "    .dataframe tbody tr th:only-of-type {\n",
       "        vertical-align: middle;\n",
       "    }\n",
       "\n",
       "    .dataframe tbody tr th {\n",
       "        vertical-align: top;\n",
       "    }\n",
       "\n",
       "    .dataframe thead th {\n",
       "        text-align: right;\n",
       "    }\n",
       "</style>\n",
       "<table border=\"1\" class=\"dataframe\">\n",
       "  <thead>\n",
       "    <tr style=\"text-align: right;\">\n",
       "      <th></th>\n",
       "      <th>course</th>\n",
       "      <th>grade</th>\n",
       "    </tr>\n",
       "  </thead>\n",
       "  <tbody>\n",
       "    <tr>\n",
       "      <th>0</th>\n",
       "      <td>语文</td>\n",
       "      <td>80</td>\n",
       "    </tr>\n",
       "    <tr>\n",
       "      <th>1</th>\n",
       "      <td>数学</td>\n",
       "      <td>90</td>\n",
       "    </tr>\n",
       "    <tr>\n",
       "      <th>2</th>\n",
       "      <td>英语</td>\n",
       "      <td>85</td>\n",
       "    </tr>\n",
       "    <tr>\n",
       "      <th>3</th>\n",
       "      <td>计算机</td>\n",
       "      <td>100</td>\n",
       "    </tr>\n",
       "  </tbody>\n",
       "</table>\n",
       "</div>"
      ],
      "text/plain": [
       "  course  grade\n",
       "0     语文     80\n",
       "1     数学     90\n",
       "2     英语     85\n",
       "3    计算机    100"
      ]
     },
     "execution_count": 18,
     "metadata": {},
     "output_type": "execute_result"
    }
   ],
   "source": [
    "df2.columns = ['course', 'grade']\n",
    "df2"
   ]
  },
  {
   "cell_type": "markdown",
   "metadata": {},
   "source": [
    "# 009使用字典创建DataFrame"
   ]
  },
  {
   "cell_type": "code",
   "execution_count": 33,
   "metadata": {},
   "outputs": [
    {
     "data": {
      "text/html": [
       "<div>\n",
       "<style scoped>\n",
       "    .dataframe tbody tr th:only-of-type {\n",
       "        vertical-align: middle;\n",
       "    }\n",
       "\n",
       "    .dataframe tbody tr th {\n",
       "        vertical-align: top;\n",
       "    }\n",
       "\n",
       "    .dataframe thead th {\n",
       "        text-align: right;\n",
       "    }\n",
       "</style>\n",
       "<table border=\"1\" class=\"dataframe\">\n",
       "  <thead>\n",
       "    <tr style=\"text-align: right;\">\n",
       "      <th></th>\n",
       "      <th>姓名</th>\n",
       "      <th>性别</th>\n",
       "      <th>年龄</th>\n",
       "    </tr>\n",
       "  </thead>\n",
       "  <tbody>\n",
       "    <tr>\n",
       "      <th>0</th>\n",
       "      <td>小张</td>\n",
       "      <td>男</td>\n",
       "      <td>18</td>\n",
       "    </tr>\n",
       "    <tr>\n",
       "      <th>1</th>\n",
       "      <td>小王</td>\n",
       "      <td>女</td>\n",
       "      <td>19</td>\n",
       "    </tr>\n",
       "    <tr>\n",
       "      <th>2</th>\n",
       "      <td>小李</td>\n",
       "      <td>男</td>\n",
       "      <td>20</td>\n",
       "    </tr>\n",
       "    <tr>\n",
       "      <th>3</th>\n",
       "      <td>小赵</td>\n",
       "      <td>女</td>\n",
       "      <td>18</td>\n",
       "    </tr>\n",
       "  </tbody>\n",
       "</table>\n",
       "</div>"
      ],
      "text/plain": [
       "   姓名 性别  年龄\n",
       "0  小张  男  18\n",
       "1  小王  女  19\n",
       "2  小李  男  20\n",
       "3  小赵  女  18"
      ]
     },
     "execution_count": 33,
     "metadata": {},
     "output_type": "execute_result"
    }
   ],
   "source": [
    "info_dict = {\n",
    "    '姓名':['小张','小王','小李','小赵'],\n",
    "    '性别':['男','女','男','女'],\n",
    "    '年龄':[18,19,20,18]\n",
    "}\n",
    "df3 = pd.DataFrame(info_dict)\n",
    "df3"
   ]
  },
  {
   "cell_type": "markdown",
   "metadata": {},
   "source": [
    "# 010给DataFrame设置索引列"
   ]
  },
  {
   "cell_type": "code",
   "execution_count": 37,
   "metadata": {},
   "outputs": [
    {
     "data": {
      "text/html": [
       "<div>\n",
       "<style scoped>\n",
       "    .dataframe tbody tr th:only-of-type {\n",
       "        vertical-align: middle;\n",
       "    }\n",
       "\n",
       "    .dataframe tbody tr th {\n",
       "        vertical-align: top;\n",
       "    }\n",
       "\n",
       "    .dataframe thead th {\n",
       "        text-align: right;\n",
       "    }\n",
       "</style>\n",
       "<table border=\"1\" class=\"dataframe\">\n",
       "  <thead>\n",
       "    <tr style=\"text-align: right;\">\n",
       "      <th></th>\n",
       "      <th>性别</th>\n",
       "      <th>年龄</th>\n",
       "    </tr>\n",
       "    <tr>\n",
       "      <th>姓名</th>\n",
       "      <th></th>\n",
       "      <th></th>\n",
       "    </tr>\n",
       "  </thead>\n",
       "  <tbody>\n",
       "    <tr>\n",
       "      <th>小张</th>\n",
       "      <td>男</td>\n",
       "      <td>18</td>\n",
       "    </tr>\n",
       "    <tr>\n",
       "      <th>小王</th>\n",
       "      <td>女</td>\n",
       "      <td>19</td>\n",
       "    </tr>\n",
       "    <tr>\n",
       "      <th>小李</th>\n",
       "      <td>男</td>\n",
       "      <td>20</td>\n",
       "    </tr>\n",
       "    <tr>\n",
       "      <th>小赵</th>\n",
       "      <td>女</td>\n",
       "      <td>18</td>\n",
       "    </tr>\n",
       "  </tbody>\n",
       "</table>\n",
       "</div>"
      ],
      "text/plain": [
       "   性别  年龄\n",
       "姓名       \n",
       "小张  男  18\n",
       "小王  女  19\n",
       "小李  男  20\n",
       "小赵  女  18"
      ]
     },
     "execution_count": 37,
     "metadata": {},
     "output_type": "execute_result"
    }
   ],
   "source": [
    "df4 = df3.copy()\n",
    "df4.set_index('姓名', drop=True, inplace=True) # drop删除被用作index的列，默认为True；inplace原地修改DataFrame，默认为False\n",
    "df4"
   ]
  },
  {
   "cell_type": "markdown",
   "metadata": {},
   "source": [
    "# 011生成一个月份所有日期"
   ]
  },
  {
   "cell_type": "code",
   "execution_count": 51,
   "metadata": {},
   "outputs": [
    {
     "data": {
      "text/plain": [
       "DatetimeIndex(['2021-10-01', '2021-10-02', '2021-10-03', '2021-10-04',\n",
       "               '2021-10-05', '2021-10-06', '2021-10-07', '2021-10-08',\n",
       "               '2021-10-09', '2021-10-10', '2021-10-11', '2021-10-12',\n",
       "               '2021-10-13', '2021-10-14', '2021-10-15', '2021-10-16',\n",
       "               '2021-10-17', '2021-10-18', '2021-10-19', '2021-10-20',\n",
       "               '2021-10-21', '2021-10-22', '2021-10-23', '2021-10-24',\n",
       "               '2021-10-25', '2021-10-26', '2021-10-27', '2021-10-28',\n",
       "               '2021-10-29', '2021-10-30', '2021-10-31'],\n",
       "              dtype='datetime64[ns]', freq='D')"
      ]
     },
     "execution_count": 51,
     "metadata": {},
     "output_type": "execute_result"
    }
   ],
   "source": [
    "# df6 = pd.date_range(start='2021-10-01', end='2021-10-31', freq='D') # 方法1\n",
    "df6 = pd.date_range(start='2021-10-01', periods=31, freq='D') # 方法2\n",
    "df6"
   ]
  },
  {
   "cell_type": "markdown",
   "metadata": {},
   "source": [
    "# 012生成一年的所有周一日期"
   ]
  },
  {
   "cell_type": "code",
   "execution_count": 59,
   "metadata": {},
   "outputs": [
    {
     "data": {
      "text/plain": [
       "DatetimeIndex(['2021-01-04', '2021-01-11', '2021-01-18', '2021-01-25',\n",
       "               '2021-02-01', '2021-02-08', '2021-02-15', '2021-02-22',\n",
       "               '2021-03-01', '2021-03-08', '2021-03-15', '2021-03-22',\n",
       "               '2021-03-29', '2021-04-05', '2021-04-12', '2021-04-19',\n",
       "               '2021-04-26', '2021-05-03', '2021-05-10', '2021-05-17',\n",
       "               '2021-05-24', '2021-05-31', '2021-06-07', '2021-06-14',\n",
       "               '2021-06-21', '2021-06-28', '2021-07-05', '2021-07-12',\n",
       "               '2021-07-19', '2021-07-26', '2021-08-02', '2021-08-09',\n",
       "               '2021-08-16', '2021-08-23', '2021-08-30', '2021-09-06',\n",
       "               '2021-09-13', '2021-09-20', '2021-09-27', '2021-10-04',\n",
       "               '2021-10-11', '2021-10-18', '2021-10-25', '2021-11-01',\n",
       "               '2021-11-08', '2021-11-15', '2021-11-22', '2021-11-29',\n",
       "               '2021-12-06', '2021-12-13', '2021-12-20', '2021-12-27'],\n",
       "              dtype='datetime64[ns]', freq='W-MON')"
      ]
     },
     "execution_count": 59,
     "metadata": {},
     "output_type": "execute_result"
    }
   ],
   "source": [
    "df7 = pd.date_range(start='2021-01-04', periods=52, freq='W-MON')\n",
    "df7"
   ]
  },
  {
   "cell_type": "markdown",
   "metadata": {},
   "source": [
    "# 013生成一天的所有小时"
   ]
  },
  {
   "cell_type": "code",
   "execution_count": 67,
   "metadata": {},
   "outputs": [
    {
     "data": {
      "text/plain": [
       "DatetimeIndex(['2021-10-01 00:00:00', '2021-10-01 01:00:00',\n",
       "               '2021-10-01 02:00:00', '2021-10-01 03:00:00',\n",
       "               '2021-10-01 04:00:00', '2021-10-01 05:00:00',\n",
       "               '2021-10-01 06:00:00', '2021-10-01 07:00:00',\n",
       "               '2021-10-01 08:00:00', '2021-10-01 09:00:00',\n",
       "               '2021-10-01 10:00:00', '2021-10-01 11:00:00',\n",
       "               '2021-10-01 12:00:00', '2021-10-01 13:00:00',\n",
       "               '2021-10-01 14:00:00', '2021-10-01 15:00:00',\n",
       "               '2021-10-01 16:00:00', '2021-10-01 17:00:00',\n",
       "               '2021-10-01 18:00:00', '2021-10-01 19:00:00',\n",
       "               '2021-10-01 20:00:00', '2021-10-01 21:00:00',\n",
       "               '2021-10-01 22:00:00', '2021-10-01 23:00:00'],\n",
       "              dtype='datetime64[ns]', freq='H')"
      ]
     },
     "execution_count": 67,
     "metadata": {},
     "output_type": "execute_result"
    }
   ],
   "source": [
    "# df8 = pd.date_range(start='2021-10-01', periods=24, freq='H')\n",
    "df8 = pd.date_range(start='2021-10-01', end='2021-10-02', freq='H', inclusive='left') # 不包含02号\n",
    "df8"
   ]
  },
  {
   "cell_type": "markdown",
   "metadata": {},
   "source": [
    "# 014用日期生成DataFrame"
   ]
  },
  {
   "cell_type": "code",
   "execution_count": 75,
   "metadata": {},
   "outputs": [
    {
     "data": {
      "text/html": [
       "<div>\n",
       "<style scoped>\n",
       "    .dataframe tbody tr th:only-of-type {\n",
       "        vertical-align: middle;\n",
       "    }\n",
       "\n",
       "    .dataframe tbody tr th {\n",
       "        vertical-align: top;\n",
       "    }\n",
       "\n",
       "    .dataframe thead th {\n",
       "        text-align: right;\n",
       "    }\n",
       "</style>\n",
       "<table border=\"1\" class=\"dataframe\">\n",
       "  <thead>\n",
       "    <tr style=\"text-align: right;\">\n",
       "      <th></th>\n",
       "      <th>day</th>\n",
       "      <th>day_of_year</th>\n",
       "    </tr>\n",
       "  </thead>\n",
       "  <tbody>\n",
       "    <tr>\n",
       "      <th>0</th>\n",
       "      <td>2021-10-01</td>\n",
       "      <td>274</td>\n",
       "    </tr>\n",
       "    <tr>\n",
       "      <th>1</th>\n",
       "      <td>2021-10-02</td>\n",
       "      <td>275</td>\n",
       "    </tr>\n",
       "    <tr>\n",
       "      <th>2</th>\n",
       "      <td>2021-10-03</td>\n",
       "      <td>276</td>\n",
       "    </tr>\n",
       "    <tr>\n",
       "      <th>3</th>\n",
       "      <td>2021-10-04</td>\n",
       "      <td>277</td>\n",
       "    </tr>\n",
       "    <tr>\n",
       "      <th>4</th>\n",
       "      <td>2021-10-05</td>\n",
       "      <td>278</td>\n",
       "    </tr>\n",
       "    <tr>\n",
       "      <th>5</th>\n",
       "      <td>2021-10-06</td>\n",
       "      <td>279</td>\n",
       "    </tr>\n",
       "    <tr>\n",
       "      <th>6</th>\n",
       "      <td>2021-10-07</td>\n",
       "      <td>280</td>\n",
       "    </tr>\n",
       "    <tr>\n",
       "      <th>7</th>\n",
       "      <td>2021-10-08</td>\n",
       "      <td>281</td>\n",
       "    </tr>\n",
       "    <tr>\n",
       "      <th>8</th>\n",
       "      <td>2021-10-09</td>\n",
       "      <td>282</td>\n",
       "    </tr>\n",
       "    <tr>\n",
       "      <th>9</th>\n",
       "      <td>2021-10-10</td>\n",
       "      <td>283</td>\n",
       "    </tr>\n",
       "    <tr>\n",
       "      <th>10</th>\n",
       "      <td>2021-10-11</td>\n",
       "      <td>284</td>\n",
       "    </tr>\n",
       "    <tr>\n",
       "      <th>11</th>\n",
       "      <td>2021-10-12</td>\n",
       "      <td>285</td>\n",
       "    </tr>\n",
       "    <tr>\n",
       "      <th>12</th>\n",
       "      <td>2021-10-13</td>\n",
       "      <td>286</td>\n",
       "    </tr>\n",
       "    <tr>\n",
       "      <th>13</th>\n",
       "      <td>2021-10-14</td>\n",
       "      <td>287</td>\n",
       "    </tr>\n",
       "    <tr>\n",
       "      <th>14</th>\n",
       "      <td>2021-10-15</td>\n",
       "      <td>288</td>\n",
       "    </tr>\n",
       "    <tr>\n",
       "      <th>15</th>\n",
       "      <td>2021-10-16</td>\n",
       "      <td>289</td>\n",
       "    </tr>\n",
       "    <tr>\n",
       "      <th>16</th>\n",
       "      <td>2021-10-17</td>\n",
       "      <td>290</td>\n",
       "    </tr>\n",
       "    <tr>\n",
       "      <th>17</th>\n",
       "      <td>2021-10-18</td>\n",
       "      <td>291</td>\n",
       "    </tr>\n",
       "    <tr>\n",
       "      <th>18</th>\n",
       "      <td>2021-10-19</td>\n",
       "      <td>292</td>\n",
       "    </tr>\n",
       "    <tr>\n",
       "      <th>19</th>\n",
       "      <td>2021-10-20</td>\n",
       "      <td>293</td>\n",
       "    </tr>\n",
       "    <tr>\n",
       "      <th>20</th>\n",
       "      <td>2021-10-21</td>\n",
       "      <td>294</td>\n",
       "    </tr>\n",
       "    <tr>\n",
       "      <th>21</th>\n",
       "      <td>2021-10-22</td>\n",
       "      <td>295</td>\n",
       "    </tr>\n",
       "    <tr>\n",
       "      <th>22</th>\n",
       "      <td>2021-10-23</td>\n",
       "      <td>296</td>\n",
       "    </tr>\n",
       "    <tr>\n",
       "      <th>23</th>\n",
       "      <td>2021-10-24</td>\n",
       "      <td>297</td>\n",
       "    </tr>\n",
       "    <tr>\n",
       "      <th>24</th>\n",
       "      <td>2021-10-25</td>\n",
       "      <td>298</td>\n",
       "    </tr>\n",
       "    <tr>\n",
       "      <th>25</th>\n",
       "      <td>2021-10-26</td>\n",
       "      <td>299</td>\n",
       "    </tr>\n",
       "    <tr>\n",
       "      <th>26</th>\n",
       "      <td>2021-10-27</td>\n",
       "      <td>300</td>\n",
       "    </tr>\n",
       "    <tr>\n",
       "      <th>27</th>\n",
       "      <td>2021-10-28</td>\n",
       "      <td>301</td>\n",
       "    </tr>\n",
       "    <tr>\n",
       "      <th>28</th>\n",
       "      <td>2021-10-29</td>\n",
       "      <td>302</td>\n",
       "    </tr>\n",
       "    <tr>\n",
       "      <th>29</th>\n",
       "      <td>2021-10-30</td>\n",
       "      <td>303</td>\n",
       "    </tr>\n",
       "    <tr>\n",
       "      <th>30</th>\n",
       "      <td>2021-10-31</td>\n",
       "      <td>304</td>\n",
       "    </tr>\n",
       "  </tbody>\n",
       "</table>\n",
       "</div>"
      ],
      "text/plain": [
       "          day  day_of_year\n",
       "0  2021-10-01          274\n",
       "1  2021-10-02          275\n",
       "2  2021-10-03          276\n",
       "3  2021-10-04          277\n",
       "4  2021-10-05          278\n",
       "5  2021-10-06          279\n",
       "6  2021-10-07          280\n",
       "7  2021-10-08          281\n",
       "8  2021-10-09          282\n",
       "9  2021-10-10          283\n",
       "10 2021-10-11          284\n",
       "11 2021-10-12          285\n",
       "12 2021-10-13          286\n",
       "13 2021-10-14          287\n",
       "14 2021-10-15          288\n",
       "15 2021-10-16          289\n",
       "16 2021-10-17          290\n",
       "17 2021-10-18          291\n",
       "18 2021-10-19          292\n",
       "19 2021-10-20          293\n",
       "20 2021-10-21          294\n",
       "21 2021-10-22          295\n",
       "22 2021-10-23          296\n",
       "23 2021-10-24          297\n",
       "24 2021-10-25          298\n",
       "25 2021-10-26          299\n",
       "26 2021-10-27          300\n",
       "27 2021-10-28          301\n",
       "28 2021-10-29          302\n",
       "29 2021-10-30          303\n",
       "30 2021-10-31          304"
      ]
     },
     "execution_count": 75,
     "metadata": {},
     "output_type": "execute_result"
    }
   ],
   "source": [
    "day = pd.date_range(start='2021-10-01', periods=31, freq='D')\n",
    "df9 = pd.DataFrame({\n",
    "    'day' : day,\n",
    "    'day_of_year' : day.dayofyear\n",
    "})\n",
    "df9"
   ]
  },
  {
   "cell_type": "markdown",
   "metadata": {},
   "source": [
    "# 015使用日期和随机数生成DataFrame"
   ]
  },
  {
   "cell_type": "code",
   "execution_count": 94,
   "metadata": {},
   "outputs": [
    {
     "data": {
      "text/html": [
       "<div>\n",
       "<style scoped>\n",
       "    .dataframe tbody tr th:only-of-type {\n",
       "        vertical-align: middle;\n",
       "    }\n",
       "\n",
       "    .dataframe tbody tr th {\n",
       "        vertical-align: top;\n",
       "    }\n",
       "\n",
       "    .dataframe thead th {\n",
       "        text-align: right;\n",
       "    }\n",
       "</style>\n",
       "<table border=\"1\" class=\"dataframe\">\n",
       "  <thead>\n",
       "    <tr style=\"text-align: right;\">\n",
       "      <th></th>\n",
       "      <th>norm</th>\n",
       "      <th>uniform</th>\n",
       "      <th>binomial</th>\n",
       "    </tr>\n",
       "  </thead>\n",
       "  <tbody>\n",
       "    <tr>\n",
       "      <th>2021-01-01</th>\n",
       "      <td>-0.943707</td>\n",
       "      <td>0.738327</td>\n",
       "      <td>0</td>\n",
       "    </tr>\n",
       "    <tr>\n",
       "      <th>2021-01-02</th>\n",
       "      <td>-0.111825</td>\n",
       "      <td>0.968524</td>\n",
       "      <td>1</td>\n",
       "    </tr>\n",
       "    <tr>\n",
       "      <th>2021-01-03</th>\n",
       "      <td>0.071392</td>\n",
       "      <td>0.390900</td>\n",
       "      <td>0</td>\n",
       "    </tr>\n",
       "    <tr>\n",
       "      <th>2021-01-04</th>\n",
       "      <td>-1.403814</td>\n",
       "      <td>0.615796</td>\n",
       "      <td>0</td>\n",
       "    </tr>\n",
       "    <tr>\n",
       "      <th>2021-01-05</th>\n",
       "      <td>1.520362</td>\n",
       "      <td>0.018564</td>\n",
       "      <td>0</td>\n",
       "    </tr>\n",
       "    <tr>\n",
       "      <th>...</th>\n",
       "      <td>...</td>\n",
       "      <td>...</td>\n",
       "      <td>...</td>\n",
       "    </tr>\n",
       "    <tr>\n",
       "      <th>2023-09-23</th>\n",
       "      <td>0.077795</td>\n",
       "      <td>0.400052</td>\n",
       "      <td>0</td>\n",
       "    </tr>\n",
       "    <tr>\n",
       "      <th>2023-09-24</th>\n",
       "      <td>-1.814570</td>\n",
       "      <td>0.050924</td>\n",
       "      <td>0</td>\n",
       "    </tr>\n",
       "    <tr>\n",
       "      <th>2023-09-25</th>\n",
       "      <td>1.013824</td>\n",
       "      <td>0.805262</td>\n",
       "      <td>0</td>\n",
       "    </tr>\n",
       "    <tr>\n",
       "      <th>2023-09-26</th>\n",
       "      <td>-0.061858</td>\n",
       "      <td>0.808770</td>\n",
       "      <td>0</td>\n",
       "    </tr>\n",
       "    <tr>\n",
       "      <th>2023-09-27</th>\n",
       "      <td>-0.398729</td>\n",
       "      <td>0.736480</td>\n",
       "      <td>0</td>\n",
       "    </tr>\n",
       "  </tbody>\n",
       "</table>\n",
       "<p>1000 rows × 3 columns</p>\n",
       "</div>"
      ],
      "text/plain": [
       "                norm   uniform  binomial\n",
       "2021-01-01 -0.943707  0.738327         0\n",
       "2021-01-02 -0.111825  0.968524         1\n",
       "2021-01-03  0.071392  0.390900         0\n",
       "2021-01-04 -1.403814  0.615796         0\n",
       "2021-01-05  1.520362  0.018564         0\n",
       "...              ...       ...       ...\n",
       "2023-09-23  0.077795  0.400052         0\n",
       "2023-09-24 -1.814570  0.050924         0\n",
       "2023-09-25  1.013824  0.805262         0\n",
       "2023-09-26 -0.061858  0.808770         0\n",
       "2023-09-27 -0.398729  0.736480         0\n",
       "\n",
       "[1000 rows x 3 columns]"
      ]
     },
     "execution_count": 94,
     "metadata": {},
     "output_type": "execute_result"
    }
   ],
   "source": [
    "date = pd.date_range(start='2021-01-01', periods=1000, freq='D')\n",
    "data = {\n",
    "    'norm' : np.random.normal(loc=0, scale=1, size=1000),\n",
    "    'uniform' : np.random.uniform(low=0, high=1, size=1000),\n",
    "    'binomial' : np.random.binomial(n=1, p=0.2, size=1000)\n",
    "}\n",
    "df10 = pd.DataFrame(data=data, index=date)\n",
    "df10"
   ]
  },
  {
   "cell_type": "markdown",
   "metadata": {},
   "source": [
    "# 016打印DataFrame的前后数据行"
   ]
  },
  {
   "cell_type": "code",
   "execution_count": 96,
   "metadata": {},
   "outputs": [
    {
     "name": "stdout",
     "output_type": "stream",
     "text": [
      "                norm   uniform  binomial\n",
      "2021-01-01 -0.943707  0.738327         0\n",
      "2021-01-02 -0.111825  0.968524         1\n",
      "2021-01-03  0.071392  0.390900         0\n",
      "2021-01-04 -1.403814  0.615796         0\n",
      "2021-01-05  1.520362  0.018564         0\n",
      "2021-01-06  0.419204  0.509082         0\n",
      "2021-01-07  0.676923  0.160707         0\n",
      "2021-01-08 -0.446566  0.274765         0\n",
      "2021-01-09  2.507684  0.611809         0\n",
      "2021-01-10  1.066659  0.334029         1\n",
      "\n",
      "\n",
      "                norm   uniform  binomial\n",
      "2023-09-23  0.077795  0.400052         0\n",
      "2023-09-24 -1.814570  0.050924         0\n",
      "2023-09-25  1.013824  0.805262         0\n",
      "2023-09-26 -0.061858  0.808770         0\n",
      "2023-09-27 -0.398729  0.736480         0\n"
     ]
    }
   ],
   "source": [
    "print(df10.head(10))\n",
    "print('\\n')\n",
    "print(df10.tail(5))"
   ]
  },
  {
   "cell_type": "markdown",
   "metadata": {},
   "source": [
    "# 017DataFrame的信息和基本数据统计"
   ]
  },
  {
   "cell_type": "code",
   "execution_count": 99,
   "metadata": {},
   "outputs": [
    {
     "name": "stdout",
     "output_type": "stream",
     "text": [
      "<class 'pandas.core.frame.DataFrame'>\n",
      "DatetimeIndex: 1000 entries, 2021-01-01 to 2023-09-27\n",
      "Freq: D\n",
      "Data columns (total 3 columns):\n",
      " #   Column    Non-Null Count  Dtype  \n",
      "---  ------    --------------  -----  \n",
      " 0   norm      1000 non-null   float64\n",
      " 1   uniform   1000 non-null   float64\n",
      " 2   binomial  1000 non-null   int64  \n",
      "dtypes: float64(2), int64(1)\n",
      "memory usage: 31.2 KB\n",
      "None\n",
      "\n",
      "\n",
      "              norm      uniform     binomial\n",
      "count  1000.000000  1000.000000  1000.000000\n",
      "mean     -0.018324     0.507354     0.203000\n",
      "std       0.980199     0.293294     0.402434\n",
      "min      -2.679493     0.000859     0.000000\n",
      "25%      -0.712928     0.250209     0.000000\n",
      "50%      -0.060179     0.507055     0.000000\n",
      "75%       0.648760     0.762867     0.000000\n",
      "max       2.914688     0.999570     1.000000\n"
     ]
    }
   ],
   "source": [
    "print(df10.info())\n",
    "print('\\n')\n",
    "print(df10.describe())"
   ]
  },
  {
   "cell_type": "markdown",
   "metadata": {},
   "source": [
    "# 018统计数据列的值出现次数"
   ]
  },
  {
   "cell_type": "code",
   "execution_count": 103,
   "metadata": {},
   "outputs": [
    {
     "data": {
      "text/plain": [
       "0    797\n",
       "1    203\n",
       "Name: binomial, dtype: int64"
      ]
     },
     "execution_count": 103,
     "metadata": {},
     "output_type": "execute_result"
    }
   ],
   "source": [
    "df10['binomial'].value_counts()"
   ]
  },
  {
   "cell_type": "markdown",
   "metadata": {},
   "source": [
    "# 019DataFrame前N行存入csv文件"
   ]
  },
  {
   "cell_type": "code",
   "execution_count": 113,
   "metadata": {},
   "outputs": [],
   "source": [
    "df10.head(100).to_csv('df10_100.csv')"
   ]
  },
  {
   "cell_type": "markdown",
   "metadata": {},
   "source": [
    "# 020加载csv文件到DataFrame"
   ]
  },
  {
   "cell_type": "code",
   "execution_count": 121,
   "metadata": {},
   "outputs": [
    {
     "data": {
      "text/html": [
       "<div>\n",
       "<style scoped>\n",
       "    .dataframe tbody tr th:only-of-type {\n",
       "        vertical-align: middle;\n",
       "    }\n",
       "\n",
       "    .dataframe tbody tr th {\n",
       "        vertical-align: top;\n",
       "    }\n",
       "\n",
       "    .dataframe thead th {\n",
       "        text-align: right;\n",
       "    }\n",
       "</style>\n",
       "<table border=\"1\" class=\"dataframe\">\n",
       "  <thead>\n",
       "    <tr style=\"text-align: right;\">\n",
       "      <th></th>\n",
       "      <th>norm</th>\n",
       "      <th>uniform</th>\n",
       "      <th>binomial</th>\n",
       "    </tr>\n",
       "  </thead>\n",
       "  <tbody>\n",
       "    <tr>\n",
       "      <th>2021-01-01</th>\n",
       "      <td>-0.943707</td>\n",
       "      <td>0.738327</td>\n",
       "      <td>0</td>\n",
       "    </tr>\n",
       "    <tr>\n",
       "      <th>2021-01-02</th>\n",
       "      <td>-0.111825</td>\n",
       "      <td>0.968524</td>\n",
       "      <td>1</td>\n",
       "    </tr>\n",
       "    <tr>\n",
       "      <th>2021-01-03</th>\n",
       "      <td>0.071392</td>\n",
       "      <td>0.390900</td>\n",
       "      <td>0</td>\n",
       "    </tr>\n",
       "    <tr>\n",
       "      <th>2021-01-04</th>\n",
       "      <td>-1.403814</td>\n",
       "      <td>0.615796</td>\n",
       "      <td>0</td>\n",
       "    </tr>\n",
       "    <tr>\n",
       "      <th>2021-01-05</th>\n",
       "      <td>1.520362</td>\n",
       "      <td>0.018564</td>\n",
       "      <td>0</td>\n",
       "    </tr>\n",
       "    <tr>\n",
       "      <th>...</th>\n",
       "      <td>...</td>\n",
       "      <td>...</td>\n",
       "      <td>...</td>\n",
       "    </tr>\n",
       "    <tr>\n",
       "      <th>2021-04-06</th>\n",
       "      <td>-0.037234</td>\n",
       "      <td>0.722495</td>\n",
       "      <td>0</td>\n",
       "    </tr>\n",
       "    <tr>\n",
       "      <th>2021-04-07</th>\n",
       "      <td>-0.396256</td>\n",
       "      <td>0.606541</td>\n",
       "      <td>0</td>\n",
       "    </tr>\n",
       "    <tr>\n",
       "      <th>2021-04-08</th>\n",
       "      <td>-0.545420</td>\n",
       "      <td>0.670817</td>\n",
       "      <td>0</td>\n",
       "    </tr>\n",
       "    <tr>\n",
       "      <th>2021-04-09</th>\n",
       "      <td>0.196980</td>\n",
       "      <td>0.645179</td>\n",
       "      <td>0</td>\n",
       "    </tr>\n",
       "    <tr>\n",
       "      <th>2021-04-10</th>\n",
       "      <td>-0.620760</td>\n",
       "      <td>0.865037</td>\n",
       "      <td>0</td>\n",
       "    </tr>\n",
       "  </tbody>\n",
       "</table>\n",
       "<p>100 rows × 3 columns</p>\n",
       "</div>"
      ],
      "text/plain": [
       "                norm   uniform  binomial\n",
       "2021-01-01 -0.943707  0.738327         0\n",
       "2021-01-02 -0.111825  0.968524         1\n",
       "2021-01-03  0.071392  0.390900         0\n",
       "2021-01-04 -1.403814  0.615796         0\n",
       "2021-01-05  1.520362  0.018564         0\n",
       "...              ...       ...       ...\n",
       "2021-04-06 -0.037234  0.722495         0\n",
       "2021-04-07 -0.396256  0.606541         0\n",
       "2021-04-08 -0.545420  0.670817         0\n",
       "2021-04-09  0.196980  0.645179         0\n",
       "2021-04-10 -0.620760  0.865037         0\n",
       "\n",
       "[100 rows x 3 columns]"
      ]
     },
     "execution_count": 121,
     "metadata": {},
     "output_type": "execute_result"
    }
   ],
   "source": [
    "df10_100 = pd.read_csv('./df10_100.csv', index_col=0)\n",
    "df10_100"
   ]
  },
  {
   "cell_type": "markdown",
   "metadata": {},
   "source": [
    "# 021加载股票数据csv文件"
   ]
  },
  {
   "cell_type": "code",
   "execution_count": 139,
   "metadata": {},
   "outputs": [
    {
     "data": {
      "text/html": [
       "<div>\n",
       "<style scoped>\n",
       "    .dataframe tbody tr th:only-of-type {\n",
       "        vertical-align: middle;\n",
       "    }\n",
       "\n",
       "    .dataframe tbody tr th {\n",
       "        vertical-align: top;\n",
       "    }\n",
       "\n",
       "    .dataframe thead th {\n",
       "        text-align: right;\n",
       "    }\n",
       "</style>\n",
       "<table border=\"1\" class=\"dataframe\">\n",
       "  <thead>\n",
       "    <tr style=\"text-align: right;\">\n",
       "      <th></th>\n",
       "      <th>Date</th>\n",
       "      <th>Open</th>\n",
       "      <th>High</th>\n",
       "      <th>Low</th>\n",
       "      <th>Close</th>\n",
       "      <th>Volume</th>\n",
       "    </tr>\n",
       "  </thead>\n",
       "  <tbody>\n",
       "    <tr>\n",
       "      <th>0</th>\n",
       "      <td>2021-09-30</td>\n",
       "      <td>456.000</td>\n",
       "      <td>464.600</td>\n",
       "      <td>453.800</td>\n",
       "      <td>461.400</td>\n",
       "      <td>17335451</td>\n",
       "    </tr>\n",
       "    <tr>\n",
       "      <th>1</th>\n",
       "      <td>2021-09-29</td>\n",
       "      <td>461.600</td>\n",
       "      <td>465.000</td>\n",
       "      <td>450.200</td>\n",
       "      <td>465.000</td>\n",
       "      <td>18250450</td>\n",
       "    </tr>\n",
       "    <tr>\n",
       "      <th>2</th>\n",
       "      <td>2021-09-28</td>\n",
       "      <td>467.000</td>\n",
       "      <td>476.200</td>\n",
       "      <td>464.600</td>\n",
       "      <td>469.800</td>\n",
       "      <td>20947276</td>\n",
       "    </tr>\n",
       "    <tr>\n",
       "      <th>3</th>\n",
       "      <td>2021-09-27</td>\n",
       "      <td>459.000</td>\n",
       "      <td>473.000</td>\n",
       "      <td>455.200</td>\n",
       "      <td>464.600</td>\n",
       "      <td>17966998</td>\n",
       "    </tr>\n",
       "    <tr>\n",
       "      <th>4</th>\n",
       "      <td>2021-09-24</td>\n",
       "      <td>461.400</td>\n",
       "      <td>473.400</td>\n",
       "      <td>456.200</td>\n",
       "      <td>460.200</td>\n",
       "      <td>16656914</td>\n",
       "    </tr>\n",
       "    <tr>\n",
       "      <th>...</th>\n",
       "      <td>...</td>\n",
       "      <td>...</td>\n",
       "      <td>...</td>\n",
       "      <td>...</td>\n",
       "      <td>...</td>\n",
       "      <td>...</td>\n",
       "    </tr>\n",
       "    <tr>\n",
       "      <th>4262</th>\n",
       "      <td>2004-06-23</td>\n",
       "      <td>4.050</td>\n",
       "      <td>4.450</td>\n",
       "      <td>4.025</td>\n",
       "      <td>4.425</td>\n",
       "      <td>55016000</td>\n",
       "    </tr>\n",
       "    <tr>\n",
       "      <th>4263</th>\n",
       "      <td>2004-06-21</td>\n",
       "      <td>4.125</td>\n",
       "      <td>4.125</td>\n",
       "      <td>3.950</td>\n",
       "      <td>4.000</td>\n",
       "      <td>22817000</td>\n",
       "    </tr>\n",
       "    <tr>\n",
       "      <th>4264</th>\n",
       "      <td>2004-06-18</td>\n",
       "      <td>4.200</td>\n",
       "      <td>4.250</td>\n",
       "      <td>3.950</td>\n",
       "      <td>4.025</td>\n",
       "      <td>36598000</td>\n",
       "    </tr>\n",
       "    <tr>\n",
       "      <th>4265</th>\n",
       "      <td>2004-06-17</td>\n",
       "      <td>4.150</td>\n",
       "      <td>4.375</td>\n",
       "      <td>4.125</td>\n",
       "      <td>4.225</td>\n",
       "      <td>83801500</td>\n",
       "    </tr>\n",
       "    <tr>\n",
       "      <th>4266</th>\n",
       "      <td>2004-06-16</td>\n",
       "      <td>4.375</td>\n",
       "      <td>4.625</td>\n",
       "      <td>4.075</td>\n",
       "      <td>4.150</td>\n",
       "      <td>439775000</td>\n",
       "    </tr>\n",
       "  </tbody>\n",
       "</table>\n",
       "<p>4267 rows × 6 columns</p>\n",
       "</div>"
      ],
      "text/plain": [
       "            Date     Open     High      Low    Close     Volume\n",
       "0     2021-09-30  456.000  464.600  453.800  461.400   17335451\n",
       "1     2021-09-29  461.600  465.000  450.200  465.000   18250450\n",
       "2     2021-09-28  467.000  476.200  464.600  469.800   20947276\n",
       "3     2021-09-27  459.000  473.000  455.200  464.600   17966998\n",
       "4     2021-09-24  461.400  473.400  456.200  460.200   16656914\n",
       "...          ...      ...      ...      ...      ...        ...\n",
       "4262  2004-06-23    4.050    4.450    4.025    4.425   55016000\n",
       "4263  2004-06-21    4.125    4.125    3.950    4.000   22817000\n",
       "4264  2004-06-18    4.200    4.250    3.950    4.025   36598000\n",
       "4265  2004-06-17    4.150    4.375    4.125    4.225   83801500\n",
       "4266  2004-06-16    4.375    4.625    4.075    4.150  439775000\n",
       "\n",
       "[4267 rows x 6 columns]"
      ]
     },
     "execution_count": 139,
     "metadata": {},
     "output_type": "execute_result"
    }
   ],
   "source": [
    "df11 = pd.read_csv('./00700.HK.csv')\n",
    "df11"
   ]
  },
  {
   "cell_type": "markdown",
   "metadata": {},
   "source": [
    "# 022查看基本信息和数据统计"
   ]
  },
  {
   "cell_type": "code",
   "execution_count": 144,
   "metadata": {},
   "outputs": [
    {
     "name": "stdout",
     "output_type": "stream",
     "text": [
      "<class 'pandas.core.frame.DataFrame'>\n",
      "RangeIndex: 4267 entries, 0 to 4266\n",
      "Data columns (total 6 columns):\n",
      " #   Column  Non-Null Count  Dtype  \n",
      "---  ------  --------------  -----  \n",
      " 0   Date    4267 non-null   object \n",
      " 1   Open    4267 non-null   float64\n",
      " 2   High    4267 non-null   float64\n",
      " 3   Low     4267 non-null   float64\n",
      " 4   Close   4267 non-null   float64\n",
      " 5   Volume  4267 non-null   int64  \n",
      "dtypes: float64(4), int64(1), object(1)\n",
      "memory usage: 200.1+ KB\n",
      "None\n",
      "\n",
      "              Open         High          Low        Close        Volume\n",
      "count  4267.000000  4267.000000  4267.000000  4267.000000  4.267000e+03\n",
      "mean    211.010729   213.575773   208.063849   210.778935  1.198943e+07\n",
      "std     170.116303   172.173404   167.716394   169.807145  1.413407e+07\n",
      "min       3.375000     3.500000     3.375000     3.375000  4.523670e+05\n",
      "25%      58.000000    59.200000    56.050000    57.500000  3.600698e+06\n",
      "50%     170.900000   173.300000   168.000000   170.700000  7.647284e+06\n",
      "75%     330.700000   333.100000   326.500000   330.000000  1.726551e+07\n",
      "max     767.000000   775.500000   751.500000   766.500000  4.397750e+08\n"
     ]
    }
   ],
   "source": [
    "print(df11.info())\n",
    "print()\n",
    "print(df11.describe())"
   ]
  },
  {
   "cell_type": "markdown",
   "metadata": {},
   "source": [
    "# 023更改索引列为普通数据列"
   ]
  },
  {
   "cell_type": "code",
   "execution_count": 189,
   "metadata": {},
   "outputs": [
    {
     "name": "stdout",
     "output_type": "stream",
     "text": [
      "             Open   High    Low  Close    Volume\n",
      "Date                                            \n",
      "2021-09-30  456.0  464.6  453.8  461.4  17335451\n",
      "2021-09-29  461.6  465.0  450.2  465.0  18250450\n",
      "2021-09-28  467.0  476.2  464.6  469.8  20947276\n",
      "2021-09-27  459.0  473.0  455.2  464.6  17966998\n",
      "2021-09-24  461.4  473.4  456.2  460.2  16656914\n",
      "         Date   Open   High    Low  Close    Volume\n",
      "0  2021-09-30  456.0  464.6  453.8  461.4  17335451\n",
      "1  2021-09-29  461.6  465.0  450.2  465.0  18250450\n",
      "2  2021-09-28  467.0  476.2  464.6  469.8  20947276\n",
      "3  2021-09-27  459.0  473.0  455.2  464.6  17966998\n",
      "4  2021-09-24  461.4  473.4  456.2  460.2  16656914\n"
     ]
    }
   ],
   "source": [
    "df11 = pd.read_csv('./00700.HK.csv', index_col=0)\n",
    "print(df11.head())\n",
    "df11.reset_index(inplace=True)\n",
    "print(df11.head())"
   ]
  },
  {
   "cell_type": "markdown",
   "metadata": {},
   "source": [
    "# 024给股票数据新增年份和月份"
   ]
  },
  {
   "cell_type": "markdown",
   "metadata": {},
   "source": [
    "先将日期列的字符串类型转换为日期类型"
   ]
  },
  {
   "cell_type": "code",
   "execution_count": 194,
   "metadata": {},
   "outputs": [
    {
     "name": "stdout",
     "output_type": "stream",
     "text": [
      "object\n",
      "datetime64[ns]\n"
     ]
    }
   ],
   "source": [
    "df11 = pd.read_csv('./00700.HK.csv')\n",
    "print(df11['Date'].dtype)\n",
    "# df11['Date'] = pd.to_datetime(df11['Date']) # 方法1\n",
    "df11['Date'] = df11['Date'].astype(dtype='datetime64[ns]') # 方法2\n",
    "print(df11['Date'].dtype)"
   ]
  },
  {
   "cell_type": "code",
   "execution_count": 195,
   "metadata": {},
   "outputs": [
    {
     "name": "stdout",
     "output_type": "stream",
     "text": [
      "        Date   Open   High    Low  Close    Volume  Year  Month\n",
      "0 2021-09-30  456.0  464.6  453.8  461.4  17335451  2021      9\n",
      "1 2021-09-29  461.6  465.0  450.2  465.0  18250450  2021      9\n",
      "2 2021-09-28  467.0  476.2  464.6  469.8  20947276  2021      9\n",
      "3 2021-09-27  459.0  473.0  455.2  464.6  17966998  2021      9\n",
      "4 2021-09-24  461.4  473.4  456.2  460.2  16656914  2021      9\n",
      "           Date   Open   High    Low  Close     Volume  Year  Month\n",
      "4262 2004-06-23  4.050  4.450  4.025  4.425   55016000  2004      6\n",
      "4263 2004-06-21  4.125  4.125  3.950  4.000   22817000  2004      6\n",
      "4264 2004-06-18  4.200  4.250  3.950  4.025   36598000  2004      6\n",
      "4265 2004-06-17  4.150  4.375  4.125  4.225   83801500  2004      6\n",
      "4266 2004-06-16  4.375  4.625  4.075  4.150  439775000  2004      6\n"
     ]
    }
   ],
   "source": [
    "df11['Year'] = df11['Date'].dt.year\n",
    "df11['Month'] = df11['Date'].dt.month\n",
    "print(df11.head())\n",
    "print(df11.tail())"
   ]
  },
  {
   "cell_type": "markdown",
   "metadata": {},
   "source": [
    "# 025计算股票每年的平均收盘价"
   ]
  },
  {
   "cell_type": "code",
   "execution_count": 213,
   "metadata": {},
   "outputs": [
    {
     "data": {
      "text/plain": [
       "Year\n",
       "2004      4.338686\n",
       "2005      6.568927\n",
       "2006     15.865951\n",
       "2007     37.882724\n",
       "2008     54.818367\n",
       "2009     96.369679\n",
       "2010    157.299598\n",
       "2011    189.737398\n",
       "2012    228.987045\n",
       "2013    337.136066\n",
       "2014    271.291498\n",
       "2015    144.824291\n",
       "2016    176.562041\n",
       "2017    291.066667\n",
       "2018    372.678862\n",
       "2019    346.225203\n",
       "2020    479.141129\n",
       "2021    586.649189\n",
       "Name: Close, dtype: float64"
      ]
     },
     "execution_count": 213,
     "metadata": {},
     "output_type": "execute_result"
    }
   ],
   "source": [
    "df11.groupby(by='Year')['Close'].mean()"
   ]
  },
  {
   "cell_type": "markdown",
   "metadata": {},
   "source": [
    "# 026股票数据找出收盘价最低行"
   ]
  },
  {
   "cell_type": "code",
   "execution_count": 223,
   "metadata": {},
   "outputs": [
    {
     "data": {
      "text/plain": [
       "Date      2004-07-26 00:00:00\n",
       "Open                     3.45\n",
       "High                      3.5\n",
       "Low                     3.375\n",
       "Close                   3.375\n",
       "Volume                7439000\n",
       "Year                     2004\n",
       "Name: 4240, dtype: object"
      ]
     },
     "execution_count": 223,
     "metadata": {},
     "output_type": "execute_result"
    }
   ],
   "source": [
    "# df11['Close'].min() # 返回最小值\n",
    "df11.loc[df11['Close'].argmin()] # argmin()返回最小值所在的索引"
   ]
  },
  {
   "cell_type": "code",
   "execution_count": 226,
   "metadata": {},
   "outputs": [
    {
     "data": {
      "text/html": [
       "<div>\n",
       "<style scoped>\n",
       "    .dataframe tbody tr th:only-of-type {\n",
       "        vertical-align: middle;\n",
       "    }\n",
       "\n",
       "    .dataframe tbody tr th {\n",
       "        vertical-align: top;\n",
       "    }\n",
       "\n",
       "    .dataframe thead th {\n",
       "        text-align: right;\n",
       "    }\n",
       "</style>\n",
       "<table border=\"1\" class=\"dataframe\">\n",
       "  <thead>\n",
       "    <tr style=\"text-align: right;\">\n",
       "      <th></th>\n",
       "      <th>Date</th>\n",
       "      <th>Open</th>\n",
       "      <th>High</th>\n",
       "      <th>Low</th>\n",
       "      <th>Close</th>\n",
       "      <th>Volume</th>\n",
       "      <th>Year</th>\n",
       "    </tr>\n",
       "  </thead>\n",
       "  <tbody>\n",
       "    <tr>\n",
       "      <th>4240</th>\n",
       "      <td>2004-07-26</td>\n",
       "      <td>3.45</td>\n",
       "      <td>3.5</td>\n",
       "      <td>3.375</td>\n",
       "      <td>3.375</td>\n",
       "      <td>7439000</td>\n",
       "      <td>2004</td>\n",
       "    </tr>\n",
       "  </tbody>\n",
       "</table>\n",
       "</div>"
      ],
      "text/plain": [
       "           Date  Open  High    Low  Close   Volume  Year\n",
       "4240 2004-07-26  3.45   3.5  3.375  3.375  7439000  2004"
      ]
     },
     "execution_count": 226,
     "metadata": {},
     "output_type": "execute_result"
    }
   ],
   "source": [
    "df11.loc[[df11['Close'].argmin()]] # loc多加一个[]返回的是DataFrame，不加返回的是Series"
   ]
  },
  {
   "cell_type": "markdown",
   "metadata": {},
   "source": [
    "# 027筛选部分数据列"
   ]
  },
  {
   "cell_type": "code",
   "execution_count": 230,
   "metadata": {},
   "outputs": [
    {
     "data": {
      "text/html": [
       "<div>\n",
       "<style scoped>\n",
       "    .dataframe tbody tr th:only-of-type {\n",
       "        vertical-align: middle;\n",
       "    }\n",
       "\n",
       "    .dataframe tbody tr th {\n",
       "        vertical-align: top;\n",
       "    }\n",
       "\n",
       "    .dataframe thead th {\n",
       "        text-align: right;\n",
       "    }\n",
       "</style>\n",
       "<table border=\"1\" class=\"dataframe\">\n",
       "  <thead>\n",
       "    <tr style=\"text-align: right;\">\n",
       "      <th></th>\n",
       "      <th>Date</th>\n",
       "      <th>Open</th>\n",
       "      <th>Close</th>\n",
       "      <th>Volume</th>\n",
       "    </tr>\n",
       "  </thead>\n",
       "  <tbody>\n",
       "    <tr>\n",
       "      <th>0</th>\n",
       "      <td>2021-09-30</td>\n",
       "      <td>456.0</td>\n",
       "      <td>461.4</td>\n",
       "      <td>17335451</td>\n",
       "    </tr>\n",
       "    <tr>\n",
       "      <th>1</th>\n",
       "      <td>2021-09-29</td>\n",
       "      <td>461.6</td>\n",
       "      <td>465.0</td>\n",
       "      <td>18250450</td>\n",
       "    </tr>\n",
       "    <tr>\n",
       "      <th>2</th>\n",
       "      <td>2021-09-28</td>\n",
       "      <td>467.0</td>\n",
       "      <td>469.8</td>\n",
       "      <td>20947276</td>\n",
       "    </tr>\n",
       "    <tr>\n",
       "      <th>3</th>\n",
       "      <td>2021-09-27</td>\n",
       "      <td>459.0</td>\n",
       "      <td>464.6</td>\n",
       "      <td>17966998</td>\n",
       "    </tr>\n",
       "    <tr>\n",
       "      <th>4</th>\n",
       "      <td>2021-09-24</td>\n",
       "      <td>461.4</td>\n",
       "      <td>460.2</td>\n",
       "      <td>16656914</td>\n",
       "    </tr>\n",
       "  </tbody>\n",
       "</table>\n",
       "</div>"
      ],
      "text/plain": [
       "        Date   Open  Close    Volume\n",
       "0 2021-09-30  456.0  461.4  17335451\n",
       "1 2021-09-29  461.6  465.0  18250450\n",
       "2 2021-09-28  467.0  469.8  20947276\n",
       "3 2021-09-27  459.0  464.6  17966998\n",
       "4 2021-09-24  461.4  460.2  16656914"
      ]
     },
     "execution_count": 230,
     "metadata": {},
     "output_type": "execute_result"
    }
   ],
   "source": [
    "df11[['Date', 'Open', 'Close', 'Volume']].head()"
   ]
  },
  {
   "cell_type": "markdown",
   "metadata": {},
   "source": [
    "# 028设置日期列为索引列"
   ]
  },
  {
   "cell_type": "markdown",
   "metadata": {},
   "source": [
    "方法1：读取时设置"
   ]
  },
  {
   "cell_type": "code",
   "execution_count": 240,
   "metadata": {},
   "outputs": [
    {
     "data": {
      "text/html": [
       "<div>\n",
       "<style scoped>\n",
       "    .dataframe tbody tr th:only-of-type {\n",
       "        vertical-align: middle;\n",
       "    }\n",
       "\n",
       "    .dataframe tbody tr th {\n",
       "        vertical-align: top;\n",
       "    }\n",
       "\n",
       "    .dataframe thead th {\n",
       "        text-align: right;\n",
       "    }\n",
       "</style>\n",
       "<table border=\"1\" class=\"dataframe\">\n",
       "  <thead>\n",
       "    <tr style=\"text-align: right;\">\n",
       "      <th></th>\n",
       "      <th>Open</th>\n",
       "      <th>High</th>\n",
       "      <th>Low</th>\n",
       "      <th>Close</th>\n",
       "      <th>Volume</th>\n",
       "    </tr>\n",
       "    <tr>\n",
       "      <th>Date</th>\n",
       "      <th></th>\n",
       "      <th></th>\n",
       "      <th></th>\n",
       "      <th></th>\n",
       "      <th></th>\n",
       "    </tr>\n",
       "  </thead>\n",
       "  <tbody>\n",
       "    <tr>\n",
       "      <th>2021-09-30</th>\n",
       "      <td>456.0</td>\n",
       "      <td>464.6</td>\n",
       "      <td>453.8</td>\n",
       "      <td>461.4</td>\n",
       "      <td>17335451</td>\n",
       "    </tr>\n",
       "    <tr>\n",
       "      <th>2021-09-29</th>\n",
       "      <td>461.6</td>\n",
       "      <td>465.0</td>\n",
       "      <td>450.2</td>\n",
       "      <td>465.0</td>\n",
       "      <td>18250450</td>\n",
       "    </tr>\n",
       "    <tr>\n",
       "      <th>2021-09-28</th>\n",
       "      <td>467.0</td>\n",
       "      <td>476.2</td>\n",
       "      <td>464.6</td>\n",
       "      <td>469.8</td>\n",
       "      <td>20947276</td>\n",
       "    </tr>\n",
       "    <tr>\n",
       "      <th>2021-09-27</th>\n",
       "      <td>459.0</td>\n",
       "      <td>473.0</td>\n",
       "      <td>455.2</td>\n",
       "      <td>464.6</td>\n",
       "      <td>17966998</td>\n",
       "    </tr>\n",
       "    <tr>\n",
       "      <th>2021-09-24</th>\n",
       "      <td>461.4</td>\n",
       "      <td>473.4</td>\n",
       "      <td>456.2</td>\n",
       "      <td>460.2</td>\n",
       "      <td>16656914</td>\n",
       "    </tr>\n",
       "  </tbody>\n",
       "</table>\n",
       "</div>"
      ],
      "text/plain": [
       "             Open   High    Low  Close    Volume\n",
       "Date                                            \n",
       "2021-09-30  456.0  464.6  453.8  461.4  17335451\n",
       "2021-09-29  461.6  465.0  450.2  465.0  18250450\n",
       "2021-09-28  467.0  476.2  464.6  469.8  20947276\n",
       "2021-09-27  459.0  473.0  455.2  464.6  17966998\n",
       "2021-09-24  461.4  473.4  456.2  460.2  16656914"
      ]
     },
     "execution_count": 240,
     "metadata": {},
     "output_type": "execute_result"
    }
   ],
   "source": [
    "df11 = pd.read_csv('./00700.HK.csv', index_col='Date')\n",
    "df11.head()"
   ]
  },
  {
   "cell_type": "markdown",
   "metadata": {},
   "source": [
    "方法2：后续设置"
   ]
  },
  {
   "cell_type": "code",
   "execution_count": 238,
   "metadata": {},
   "outputs": [
    {
     "data": {
      "text/html": [
       "<div>\n",
       "<style scoped>\n",
       "    .dataframe tbody tr th:only-of-type {\n",
       "        vertical-align: middle;\n",
       "    }\n",
       "\n",
       "    .dataframe tbody tr th {\n",
       "        vertical-align: top;\n",
       "    }\n",
       "\n",
       "    .dataframe thead th {\n",
       "        text-align: right;\n",
       "    }\n",
       "</style>\n",
       "<table border=\"1\" class=\"dataframe\">\n",
       "  <thead>\n",
       "    <tr style=\"text-align: right;\">\n",
       "      <th></th>\n",
       "      <th>Open</th>\n",
       "      <th>High</th>\n",
       "      <th>Low</th>\n",
       "      <th>Close</th>\n",
       "      <th>Volume</th>\n",
       "    </tr>\n",
       "    <tr>\n",
       "      <th>Date</th>\n",
       "      <th></th>\n",
       "      <th></th>\n",
       "      <th></th>\n",
       "      <th></th>\n",
       "      <th></th>\n",
       "    </tr>\n",
       "  </thead>\n",
       "  <tbody>\n",
       "    <tr>\n",
       "      <th>2021-09-30</th>\n",
       "      <td>456.0</td>\n",
       "      <td>464.6</td>\n",
       "      <td>453.8</td>\n",
       "      <td>461.4</td>\n",
       "      <td>17335451</td>\n",
       "    </tr>\n",
       "    <tr>\n",
       "      <th>2021-09-29</th>\n",
       "      <td>461.6</td>\n",
       "      <td>465.0</td>\n",
       "      <td>450.2</td>\n",
       "      <td>465.0</td>\n",
       "      <td>18250450</td>\n",
       "    </tr>\n",
       "    <tr>\n",
       "      <th>2021-09-28</th>\n",
       "      <td>467.0</td>\n",
       "      <td>476.2</td>\n",
       "      <td>464.6</td>\n",
       "      <td>469.8</td>\n",
       "      <td>20947276</td>\n",
       "    </tr>\n",
       "    <tr>\n",
       "      <th>2021-09-27</th>\n",
       "      <td>459.0</td>\n",
       "      <td>473.0</td>\n",
       "      <td>455.2</td>\n",
       "      <td>464.6</td>\n",
       "      <td>17966998</td>\n",
       "    </tr>\n",
       "    <tr>\n",
       "      <th>2021-09-24</th>\n",
       "      <td>461.4</td>\n",
       "      <td>473.4</td>\n",
       "      <td>456.2</td>\n",
       "      <td>460.2</td>\n",
       "      <td>16656914</td>\n",
       "    </tr>\n",
       "  </tbody>\n",
       "</table>\n",
       "</div>"
      ],
      "text/plain": [
       "             Open   High    Low  Close    Volume\n",
       "Date                                            \n",
       "2021-09-30  456.0  464.6  453.8  461.4  17335451\n",
       "2021-09-29  461.6  465.0  450.2  465.0  18250450\n",
       "2021-09-28  467.0  476.2  464.6  469.8  20947276\n",
       "2021-09-27  459.0  473.0  455.2  464.6  17966998\n",
       "2021-09-24  461.4  473.4  456.2  460.2  16656914"
      ]
     },
     "execution_count": 238,
     "metadata": {},
     "output_type": "execute_result"
    }
   ],
   "source": [
    "df11 = pd.read_csv('./00700.HK.csv')\n",
    "df11.set_index('Date', inplace=True)\n",
    "df11.head()"
   ]
  },
  {
   "cell_type": "markdown",
   "metadata": {},
   "source": [
    "# 029删除不需要的数据列"
   ]
  },
  {
   "cell_type": "markdown",
   "metadata": {},
   "source": [
    "方法1：pop按个删除"
   ]
  },
  {
   "cell_type": "code",
   "execution_count": 252,
   "metadata": {},
   "outputs": [
    {
     "data": {
      "text/html": [
       "<div>\n",
       "<style scoped>\n",
       "    .dataframe tbody tr th:only-of-type {\n",
       "        vertical-align: middle;\n",
       "    }\n",
       "\n",
       "    .dataframe tbody tr th {\n",
       "        vertical-align: top;\n",
       "    }\n",
       "\n",
       "    .dataframe thead th {\n",
       "        text-align: right;\n",
       "    }\n",
       "</style>\n",
       "<table border=\"1\" class=\"dataframe\">\n",
       "  <thead>\n",
       "    <tr style=\"text-align: right;\">\n",
       "      <th></th>\n",
       "      <th>Date</th>\n",
       "      <th>Open</th>\n",
       "      <th>Close</th>\n",
       "      <th>Volume</th>\n",
       "    </tr>\n",
       "  </thead>\n",
       "  <tbody>\n",
       "    <tr>\n",
       "      <th>0</th>\n",
       "      <td>2021-09-30</td>\n",
       "      <td>456.0</td>\n",
       "      <td>461.4</td>\n",
       "      <td>17335451</td>\n",
       "    </tr>\n",
       "    <tr>\n",
       "      <th>1</th>\n",
       "      <td>2021-09-29</td>\n",
       "      <td>461.6</td>\n",
       "      <td>465.0</td>\n",
       "      <td>18250450</td>\n",
       "    </tr>\n",
       "    <tr>\n",
       "      <th>2</th>\n",
       "      <td>2021-09-28</td>\n",
       "      <td>467.0</td>\n",
       "      <td>469.8</td>\n",
       "      <td>20947276</td>\n",
       "    </tr>\n",
       "    <tr>\n",
       "      <th>3</th>\n",
       "      <td>2021-09-27</td>\n",
       "      <td>459.0</td>\n",
       "      <td>464.6</td>\n",
       "      <td>17966998</td>\n",
       "    </tr>\n",
       "    <tr>\n",
       "      <th>4</th>\n",
       "      <td>2021-09-24</td>\n",
       "      <td>461.4</td>\n",
       "      <td>460.2</td>\n",
       "      <td>16656914</td>\n",
       "    </tr>\n",
       "  </tbody>\n",
       "</table>\n",
       "</div>"
      ],
      "text/plain": [
       "         Date   Open  Close    Volume\n",
       "0  2021-09-30  456.0  461.4  17335451\n",
       "1  2021-09-29  461.6  465.0  18250450\n",
       "2  2021-09-28  467.0  469.8  20947276\n",
       "3  2021-09-27  459.0  464.6  17966998\n",
       "4  2021-09-24  461.4  460.2  16656914"
      ]
     },
     "execution_count": 252,
     "metadata": {},
     "output_type": "execute_result"
    }
   ],
   "source": [
    "df11 = pd.read_csv('./00700.HK.csv')\n",
    "df11.pop('High')\n",
    "df11.pop('Low')\n",
    "df11.head()"
   ]
  },
  {
   "cell_type": "markdown",
   "metadata": {},
   "source": [
    "方法2：drop方法一起删除"
   ]
  },
  {
   "cell_type": "code",
   "execution_count": 253,
   "metadata": {},
   "outputs": [
    {
     "data": {
      "text/html": [
       "<div>\n",
       "<style scoped>\n",
       "    .dataframe tbody tr th:only-of-type {\n",
       "        vertical-align: middle;\n",
       "    }\n",
       "\n",
       "    .dataframe tbody tr th {\n",
       "        vertical-align: top;\n",
       "    }\n",
       "\n",
       "    .dataframe thead th {\n",
       "        text-align: right;\n",
       "    }\n",
       "</style>\n",
       "<table border=\"1\" class=\"dataframe\">\n",
       "  <thead>\n",
       "    <tr style=\"text-align: right;\">\n",
       "      <th></th>\n",
       "      <th>Date</th>\n",
       "      <th>Open</th>\n",
       "      <th>Close</th>\n",
       "      <th>Volume</th>\n",
       "    </tr>\n",
       "  </thead>\n",
       "  <tbody>\n",
       "    <tr>\n",
       "      <th>0</th>\n",
       "      <td>2021-09-30</td>\n",
       "      <td>456.0</td>\n",
       "      <td>461.4</td>\n",
       "      <td>17335451</td>\n",
       "    </tr>\n",
       "    <tr>\n",
       "      <th>1</th>\n",
       "      <td>2021-09-29</td>\n",
       "      <td>461.6</td>\n",
       "      <td>465.0</td>\n",
       "      <td>18250450</td>\n",
       "    </tr>\n",
       "    <tr>\n",
       "      <th>2</th>\n",
       "      <td>2021-09-28</td>\n",
       "      <td>467.0</td>\n",
       "      <td>469.8</td>\n",
       "      <td>20947276</td>\n",
       "    </tr>\n",
       "    <tr>\n",
       "      <th>3</th>\n",
       "      <td>2021-09-27</td>\n",
       "      <td>459.0</td>\n",
       "      <td>464.6</td>\n",
       "      <td>17966998</td>\n",
       "    </tr>\n",
       "    <tr>\n",
       "      <th>4</th>\n",
       "      <td>2021-09-24</td>\n",
       "      <td>461.4</td>\n",
       "      <td>460.2</td>\n",
       "      <td>16656914</td>\n",
       "    </tr>\n",
       "  </tbody>\n",
       "</table>\n",
       "</div>"
      ],
      "text/plain": [
       "         Date   Open  Close    Volume\n",
       "0  2021-09-30  456.0  461.4  17335451\n",
       "1  2021-09-29  461.6  465.0  18250450\n",
       "2  2021-09-28  467.0  469.8  20947276\n",
       "3  2021-09-27  459.0  464.6  17966998\n",
       "4  2021-09-24  461.4  460.2  16656914"
      ]
     },
     "execution_count": 253,
     "metadata": {},
     "output_type": "execute_result"
    }
   ],
   "source": [
    "df11 = pd.read_csv('./00700.HK.csv')\n",
    "df11.drop(columns=['High', 'Low'], inplace=True)\n",
    "df11.head()"
   ]
  },
  {
   "cell_type": "markdown",
   "metadata": {},
   "source": [
    "# 030对列进行重命名"
   ]
  },
  {
   "cell_type": "code",
   "execution_count": null,
   "metadata": {},
   "outputs": [],
   "source": []
  }
 ],
 "metadata": {
  "interpreter": {
   "hash": "3d597f4c481aa0f25dceb95d2a0067e73c0966dcbd003d741d821a7208527ecf"
  },
  "kernelspec": {
   "display_name": "Python 3.9.12 ('base')",
   "language": "python",
   "name": "python3"
  },
  "language_info": {
   "codemirror_mode": {
    "name": "ipython",
    "version": 3
   },
   "file_extension": ".py",
   "mimetype": "text/x-python",
   "name": "python",
   "nbconvert_exporter": "python",
   "pygments_lexer": "ipython3",
   "version": "3.9.12"
  },
  "orig_nbformat": 4
 },
 "nbformat": 4,
 "nbformat_minor": 2
}
